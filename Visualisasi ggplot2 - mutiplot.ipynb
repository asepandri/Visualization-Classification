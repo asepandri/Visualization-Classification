{
 "cells": [
  {
   "cell_type": "code",
   "execution_count": 4,
   "metadata": {},
   "outputs": [],
   "source": [
    "library(ggplot2)\n",
    "library(foreign)"
   ]
  },
  {
   "cell_type": "markdown",
   "metadata": {},
   "source": [
    "#### Fungsi untuk membuat multiplot dengan ggplot2: <br> require: ggplot2"
   ]
  },
  {
   "cell_type": "code",
   "execution_count": 3,
   "metadata": {},
   "outputs": [],
   "source": [
    "# Multiple plot (ggplot2) function\n",
    "#\n",
    "# ggplot objects can be passed in ..., or to plotlist (as a list of ggplot objects)\n",
    "# - cols:   Number of columns in layout\n",
    "# - layout: A matrix specifying the layout. If present, 'cols' is ignored.\n",
    "#\n",
    "# If the layout is something like matrix(c(1,2,3,3), nrow=2, byrow=TRUE),\n",
    "# then plot 1 will go in the upper left, 2 will go in the upper right, and\n",
    "# 3 will go all the way across the bottom.\n",
    "#\n",
    "multiplot <- function(..., plotlist=NULL, file, cols=1, layout=NULL) {\n",
    "  library(grid)\n",
    "  \n",
    "  # Make a list from the ... arguments and plotlist\n",
    "  plots <- c(list(...), plotlist)\n",
    "  \n",
    "  numPlots = length(plots)\n",
    "  \n",
    "  # If layout is NULL, then use 'cols' to determine layout\n",
    "  if (is.null(layout)) {\n",
    "    # Make the panel\n",
    "    # ncol: Number of columns of plots\n",
    "    # nrow: Number of rows needed, calculated from # of cols\n",
    "    layout <- matrix(seq(1, cols * ceiling(numPlots/cols)),\n",
    "                     ncol = cols, nrow = ceiling(numPlots/cols))\n",
    "  }\n",
    "  \n",
    "  if (numPlots==1) {\n",
    "    print(plots[[1]])\n",
    "    \n",
    "  } else {\n",
    "    # Set up the page\n",
    "    grid.newpage()\n",
    "    pushViewport(viewport(layout = grid.layout(nrow(layout), ncol(layout))))\n",
    "    \n",
    "    # Make each plot, in the correct location\n",
    "    for (i in 1:numPlots) {\n",
    "      # Get the i,j matrix positions of the regions that contain this subplot\n",
    "      matchidx <- as.data.frame(which(layout == i, arr.ind = TRUE))\n",
    "      \n",
    "      print(plots[[i]], vp = viewport(layout.pos.row = matchidx$row,\n",
    "                                      layout.pos.col = matchidx$col))\n",
    "    }\n",
    "  }\n",
    "}"
   ]
  },
  {
   "cell_type": "code",
   "execution_count": 5,
   "metadata": {},
   "outputs": [],
   "source": [
    "hsb <- read.dta(\"hsbdemo.dta\")"
   ]
  },
  {
   "cell_type": "code",
   "execution_count": 6,
   "metadata": {},
   "outputs": [
    {
     "data": {
      "text/html": [
       "<table>\n",
       "<thead><tr><th scope=col>id</th><th scope=col>female</th><th scope=col>ses</th><th scope=col>schtyp</th><th scope=col>prog</th><th scope=col>read</th><th scope=col>write</th><th scope=col>math</th><th scope=col>science</th><th scope=col>socst</th><th scope=col>honors</th><th scope=col>awards</th><th scope=col>cid</th></tr></thead>\n",
       "<tbody>\n",
       "\t<tr><td> 45         </td><td>female      </td><td>low         </td><td>public      </td><td>vocation    </td><td>34          </td><td>35          </td><td>41          </td><td>29          </td><td>26          </td><td>not enrolled</td><td>0           </td><td>1           </td></tr>\n",
       "\t<tr><td>108         </td><td>male        </td><td>middle      </td><td>public      </td><td>general     </td><td>34          </td><td>33          </td><td>41          </td><td>36          </td><td>36          </td><td>not enrolled</td><td>0           </td><td>1           </td></tr>\n",
       "\t<tr><td> 15         </td><td>male        </td><td>high        </td><td>public      </td><td>vocation    </td><td>39          </td><td>39          </td><td>44          </td><td>26          </td><td>42          </td><td>not enrolled</td><td>0           </td><td>1           </td></tr>\n",
       "\t<tr><td> 67         </td><td>male        </td><td>low         </td><td>public      </td><td>vocation    </td><td>37          </td><td>37          </td><td>42          </td><td>33          </td><td>32          </td><td>not enrolled</td><td>0           </td><td>1           </td></tr>\n",
       "\t<tr><td>153         </td><td>male        </td><td>middle      </td><td>public      </td><td>vocation    </td><td>39          </td><td>31          </td><td>40          </td><td>39          </td><td>51          </td><td>not enrolled</td><td>0           </td><td>1           </td></tr>\n",
       "\t<tr><td> 51         </td><td>female      </td><td>high        </td><td>public      </td><td>general     </td><td>42          </td><td>36          </td><td>42          </td><td>31          </td><td>39          </td><td>not enrolled</td><td>0           </td><td>1           </td></tr>\n",
       "</tbody>\n",
       "</table>\n"
      ],
      "text/latex": [
       "\\begin{tabular}{r|lllllllllllll}\n",
       " id & female & ses & schtyp & prog & read & write & math & science & socst & honors & awards & cid\\\\\n",
       "\\hline\n",
       "\t  45          & female       & low          & public       & vocation     & 34           & 35           & 41           & 29           & 26           & not enrolled & 0            & 1           \\\\\n",
       "\t 108          & male         & middle       & public       & general      & 34           & 33           & 41           & 36           & 36           & not enrolled & 0            & 1           \\\\\n",
       "\t  15          & male         & high         & public       & vocation     & 39           & 39           & 44           & 26           & 42           & not enrolled & 0            & 1           \\\\\n",
       "\t  67          & male         & low          & public       & vocation     & 37           & 37           & 42           & 33           & 32           & not enrolled & 0            & 1           \\\\\n",
       "\t 153          & male         & middle       & public       & vocation     & 39           & 31           & 40           & 39           & 51           & not enrolled & 0            & 1           \\\\\n",
       "\t  51          & female       & high         & public       & general      & 42           & 36           & 42           & 31           & 39           & not enrolled & 0            & 1           \\\\\n",
       "\\end{tabular}\n"
      ],
      "text/markdown": [
       "\n",
       "id | female | ses | schtyp | prog | read | write | math | science | socst | honors | awards | cid | \n",
       "|---|---|---|---|---|---|\n",
       "|  45          | female       | low          | public       | vocation     | 34           | 35           | 41           | 29           | 26           | not enrolled | 0            | 1            | \n",
       "| 108          | male         | middle       | public       | general      | 34           | 33           | 41           | 36           | 36           | not enrolled | 0            | 1            | \n",
       "|  15          | male         | high         | public       | vocation     | 39           | 39           | 44           | 26           | 42           | not enrolled | 0            | 1            | \n",
       "|  67          | male         | low          | public       | vocation     | 37           | 37           | 42           | 33           | 32           | not enrolled | 0            | 1            | \n",
       "| 153          | male         | middle       | public       | vocation     | 39           | 31           | 40           | 39           | 51           | not enrolled | 0            | 1            | \n",
       "|  51          | female       | high         | public       | general      | 42           | 36           | 42           | 31           | 39           | not enrolled | 0            | 1            | \n",
       "\n",
       "\n"
      ],
      "text/plain": [
       "  id  female ses    schtyp prog     read write math science socst honors      \n",
       "1  45 female low    public vocation 34   35    41   29      26    not enrolled\n",
       "2 108 male   middle public general  34   33    41   36      36    not enrolled\n",
       "3  15 male   high   public vocation 39   39    44   26      42    not enrolled\n",
       "4  67 male   low    public vocation 37   37    42   33      32    not enrolled\n",
       "5 153 male   middle public vocation 39   31    40   39      51    not enrolled\n",
       "6  51 female high   public general  42   36    42   31      39    not enrolled\n",
       "  awards cid\n",
       "1 0      1  \n",
       "2 0      1  \n",
       "3 0      1  \n",
       "4 0      1  \n",
       "5 0      1  \n",
       "6 0      1  "
      ]
     },
     "metadata": {},
     "output_type": "display_data"
    }
   ],
   "source": [
    "head(hsb)"
   ]
  },
  {
   "cell_type": "code",
   "execution_count": 12,
   "metadata": {},
   "outputs": [],
   "source": [
    "hsb_df <- data.frame(hsb)"
   ]
  },
  {
   "cell_type": "code",
   "execution_count": 13,
   "metadata": {},
   "outputs": [],
   "source": [
    "numerik <- sapply(hsb_df,class)==\"numeric\"\n",
    "faktor <- sapply(hsb_df,class)==\"factor\""
   ]
  },
  {
   "cell_type": "code",
   "execution_count": 18,
   "metadata": {},
   "outputs": [],
   "source": [
    "attach(hsb_df)"
   ]
  },
  {
   "cell_type": "code",
   "execution_count": 19,
   "metadata": {},
   "outputs": [],
   "source": [
    "numerik_terpilih <- c(names(hsb_df)==\"science\" | names(hsb_df)==\"socst\")\n",
    "atribut <- c(names(hsb_df)==\"science\" | names(hsb_df)==\"socst\" | names(hsb_df)==\"prog\")"
   ]
  },
  {
   "cell_type": "code",
   "execution_count": 20,
   "metadata": {},
   "outputs": [],
   "source": [
    "p1 <- ggplot(hsb_df, aes(x=prog,y=science,fill=prog))+ geom_boxplot()\n",
    "p2 <- ggplot(hsb_df, aes(x=prog,y=socst,fill=prog))+ geom_boxplot()\n",
    "p3 <- ggplot(hsb_df, aes(x=science,fill=prog))+geom_histogram(binwidth = 3)\n",
    "p4 <- ggplot(hsb_df, aes(x=socst,fill=prog))+geom_histogram(binwidth = 3)"
   ]
  },
  {
   "cell_type": "code",
   "execution_count": 21,
   "metadata": {},
   "outputs": [
    {
     "data": {
      "image/png": "[encoded data removed]",
      "text/plain": [
       "plot without title"
      ]
     },
     "metadata": {},
     "output_type": "display_data"
    }
   ],
   "source": [
    "multiplot(p1,p3,p2,p4,cols=2)"
   ]
  },
  {
   "cell_type": "markdown",
   "metadata": {},
   "source": [
    "### Credit: <br> Thanks to knitr and Jkyll <br> http://www.cookbook-r.com/Graphs/Multiple_graphs_on_one_page_(ggplot2)/"
   ]
  }
 ],
 "metadata": {
  "kernelspec": {
   "display_name": "R",
   "language": "R",
   "name": "ir"
  },
  "language_info": {
   "codemirror_mode": "r",
   "file_extension": ".r",
   "mimetype": "text/x-r-source",
   "name": "R",
   "pygments_lexer": "r",
   "version": "3.5.1"
  }
 },
 "nbformat": 4,
 "nbformat_minor": 2
}

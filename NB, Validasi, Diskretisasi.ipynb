{
 "cells": [
  {
   "cell_type": "markdown",
   "metadata": {},
   "source": [
    "## Pada kasus ini, diskretisasi mampu meningkatkan akurasi"
   ]
  },
  {
   "cell_type": "code",
   "execution_count": 9,
   "metadata": {},
   "outputs": [
    {
     "data": {
      "text/html": [
       "<table>\n",
       "<thead><tr><th scope=col>Sales</th><th scope=col>CompPrice</th><th scope=col>Income</th><th scope=col>Advertising</th><th scope=col>Population</th><th scope=col>Price</th><th scope=col>ShelveLoc</th><th scope=col>Age</th><th scope=col>Education</th><th scope=col>Urban</th><th scope=col>US</th></tr></thead>\n",
       "<tbody>\n",
       "\t<tr><td> 9.50 </td><td>138   </td><td> 73   </td><td>11    </td><td>276   </td><td>120   </td><td>Bad   </td><td>42    </td><td>17    </td><td>Yes   </td><td>Yes   </td></tr>\n",
       "\t<tr><td>11.22 </td><td>111   </td><td> 48   </td><td>16    </td><td>260   </td><td> 83   </td><td>Good  </td><td>65    </td><td>10    </td><td>Yes   </td><td>Yes   </td></tr>\n",
       "\t<tr><td>10.06 </td><td>113   </td><td> 35   </td><td>10    </td><td>269   </td><td> 80   </td><td>Medium</td><td>59    </td><td>12    </td><td>Yes   </td><td>Yes   </td></tr>\n",
       "\t<tr><td> 7.40 </td><td>117   </td><td>100   </td><td> 4    </td><td>466   </td><td> 97   </td><td>Medium</td><td>55    </td><td>14    </td><td>Yes   </td><td>Yes   </td></tr>\n",
       "\t<tr><td> 4.15 </td><td>141   </td><td> 64   </td><td> 3    </td><td>340   </td><td>128   </td><td>Bad   </td><td>38    </td><td>13    </td><td>Yes   </td><td>No    </td></tr>\n",
       "\t<tr><td>10.81 </td><td>124   </td><td>113   </td><td>13    </td><td>501   </td><td> 72   </td><td>Bad   </td><td>78    </td><td>16    </td><td>No    </td><td>Yes   </td></tr>\n",
       "</tbody>\n",
       "</table>\n"
      ],
      "text/latex": [
       "\\begin{tabular}{r|lllllllllll}\n",
       " Sales & CompPrice & Income & Advertising & Population & Price & ShelveLoc & Age & Education & Urban & US\\\\\n",
       "\\hline\n",
       "\t  9.50  & 138    &  73    & 11     & 276    & 120    & Bad    & 42     & 17     & Yes    & Yes   \\\\\n",
       "\t 11.22  & 111    &  48    & 16     & 260    &  83    & Good   & 65     & 10     & Yes    & Yes   \\\\\n",
       "\t 10.06  & 113    &  35    & 10     & 269    &  80    & Medium & 59     & 12     & Yes    & Yes   \\\\\n",
       "\t  7.40  & 117    & 100    &  4     & 466    &  97    & Medium & 55     & 14     & Yes    & Yes   \\\\\n",
       "\t  4.15  & 141    &  64    &  3     & 340    & 128    & Bad    & 38     & 13     & Yes    & No    \\\\\n",
       "\t 10.81  & 124    & 113    & 13     & 501    &  72    & Bad    & 78     & 16     & No     & Yes   \\\\\n",
       "\\end{tabular}\n"
      ],
      "text/markdown": [
       "\n",
       "Sales | CompPrice | Income | Advertising | Population | Price | ShelveLoc | Age | Education | Urban | US | \n",
       "|---|---|---|---|---|---|\n",
       "|  9.50  | 138    |  73    | 11     | 276    | 120    | Bad    | 42     | 17     | Yes    | Yes    | \n",
       "| 11.22  | 111    |  48    | 16     | 260    |  83    | Good   | 65     | 10     | Yes    | Yes    | \n",
       "| 10.06  | 113    |  35    | 10     | 269    |  80    | Medium | 59     | 12     | Yes    | Yes    | \n",
       "|  7.40  | 117    | 100    |  4     | 466    |  97    | Medium | 55     | 14     | Yes    | Yes    | \n",
       "|  4.15  | 141    |  64    |  3     | 340    | 128    | Bad    | 38     | 13     | Yes    | No     | \n",
       "| 10.81  | 124    | 113    | 13     | 501    |  72    | Bad    | 78     | 16     | No     | Yes    | \n",
       "\n",
       "\n"
      ],
      "text/plain": [
       "  Sales CompPrice Income Advertising Population Price ShelveLoc Age Education\n",
       "1  9.50 138        73    11          276        120   Bad       42  17       \n",
       "2 11.22 111        48    16          260         83   Good      65  10       \n",
       "3 10.06 113        35    10          269         80   Medium    59  12       \n",
       "4  7.40 117       100     4          466         97   Medium    55  14       \n",
       "5  4.15 141        64     3          340        128   Bad       38  13       \n",
       "6 10.81 124       113    13          501         72   Bad       78  16       \n",
       "  Urban US \n",
       "1 Yes   Yes\n",
       "2 Yes   Yes\n",
       "3 Yes   Yes\n",
       "4 Yes   Yes\n",
       "5 Yes   No \n",
       "6 No    Yes"
      ]
     },
     "metadata": {},
     "output_type": "display_data"
    }
   ],
   "source": [
    "# membaca data\n",
    "carseat <- read.csv(\"Carseats.csv\")\n",
    "\n",
    "## melihat data teratas\n",
    "head(carseat)"
   ]
  },
  {
   "cell_type": "code",
   "execution_count": 10,
   "metadata": {},
   "outputs": [
    {
     "data": {
      "text/plain": [
       "     Sales          CompPrice       Income        Advertising    \n",
       " Min.   : 0.000   Min.   : 77   Min.   : 21.00   Min.   : 0.000  \n",
       " 1st Qu.: 5.390   1st Qu.:115   1st Qu.: 42.75   1st Qu.: 0.000  \n",
       " Median : 7.490   Median :125   Median : 69.00   Median : 5.000  \n",
       " Mean   : 7.496   Mean   :125   Mean   : 68.66   Mean   : 6.635  \n",
       " 3rd Qu.: 9.320   3rd Qu.:135   3rd Qu.: 91.00   3rd Qu.:12.000  \n",
       " Max.   :16.270   Max.   :175   Max.   :120.00   Max.   :29.000  \n",
       "   Population        Price        ShelveLoc        Age          Education   \n",
       " Min.   : 10.0   Min.   : 24.0   Bad   : 96   Min.   :25.00   Min.   :10.0  \n",
       " 1st Qu.:139.0   1st Qu.:100.0   Good  : 85   1st Qu.:39.75   1st Qu.:12.0  \n",
       " Median :272.0   Median :117.0   Medium:219   Median :54.50   Median :14.0  \n",
       " Mean   :264.8   Mean   :115.8                Mean   :53.32   Mean   :13.9  \n",
       " 3rd Qu.:398.5   3rd Qu.:131.0                3rd Qu.:66.00   3rd Qu.:16.0  \n",
       " Max.   :509.0   Max.   :191.0                Max.   :80.00   Max.   :18.0  \n",
       " Urban       US     \n",
       " No :118   No :142  \n",
       " Yes:282   Yes:258  \n",
       "                    \n",
       "                    \n",
       "                    \n",
       "                    "
      ]
     },
     "metadata": {},
     "output_type": "display_data"
    }
   ],
   "source": [
    "# mengecek data hilang dan ringkasan data\n",
    "summary(carseat)"
   ]
  },
  {
   "cell_type": "code",
   "execution_count": 11,
   "metadata": {},
   "outputs": [
    {
     "name": "stdout",
     "output_type": "stream",
     "text": [
      "'data.frame':\t400 obs. of  11 variables:\n",
      " $ Sales      : num  9.5 11.22 10.06 7.4 4.15 ...\n",
      " $ CompPrice  : int  138 111 113 117 141 124 115 136 132 132 ...\n",
      " $ Income     : int  73 48 35 100 64 113 105 81 110 113 ...\n",
      " $ Advertising: int  11 16 10 4 3 13 0 15 0 0 ...\n",
      " $ Population : int  276 260 269 466 340 501 45 425 108 131 ...\n",
      " $ Price      : int  120 83 80 97 128 72 108 120 124 124 ...\n",
      " $ ShelveLoc  : Factor w/ 3 levels \"Bad\",\"Good\",\"Medium\": 1 2 3 3 1 1 3 2 3 3 ...\n",
      " $ Age        : int  42 65 59 55 38 78 71 67 76 76 ...\n",
      " $ Education  : int  17 10 12 14 13 16 15 10 10 17 ...\n",
      " $ Urban      : Factor w/ 2 levels \"No\",\"Yes\": 2 2 2 2 2 1 2 2 1 1 ...\n",
      " $ US         : Factor w/ 2 levels \"No\",\"Yes\": 2 2 2 2 1 2 1 2 1 2 ...\n"
     ]
    }
   ],
   "source": [
    "# mengecek struktur data\n",
    "str(carseat)"
   ]
  },
  {
   "cell_type": "code",
   "execution_count": 12,
   "metadata": {},
   "outputs": [],
   "source": [
    "# membuat peubah baru\n",
    "## membuat peubah High\n",
    "carseat$High <- ifelse(carseat$Sales > 8, \"ya\", \"tidak\")\n",
    "\n",
    "## merubah High menjadi bertipe factor\n",
    "carseat$High <- as.factor(carseat$High)"
   ]
  },
  {
   "cell_type": "code",
   "execution_count": 13,
   "metadata": {},
   "outputs": [
    {
     "name": "stdout",
     "output_type": "stream",
     "text": [
      "'data.frame':\t400 obs. of  12 variables:\n",
      " $ Sales      : num  9.5 11.22 10.06 7.4 4.15 ...\n",
      " $ CompPrice  : int  138 111 113 117 141 124 115 136 132 132 ...\n",
      " $ Income     : int  73 48 35 100 64 113 105 81 110 113 ...\n",
      " $ Advertising: int  11 16 10 4 3 13 0 15 0 0 ...\n",
      " $ Population : int  276 260 269 466 340 501 45 425 108 131 ...\n",
      " $ Price      : int  120 83 80 97 128 72 108 120 124 124 ...\n",
      " $ ShelveLoc  : Factor w/ 3 levels \"Bad\",\"Good\",\"Medium\": 1 2 3 3 1 1 3 2 3 3 ...\n",
      " $ Age        : int  42 65 59 55 38 78 71 67 76 76 ...\n",
      " $ Education  : int  17 10 12 14 13 16 15 10 10 17 ...\n",
      " $ Urban      : Factor w/ 2 levels \"No\",\"Yes\": 2 2 2 2 2 1 2 2 1 1 ...\n",
      " $ US         : Factor w/ 2 levels \"No\",\"Yes\": 2 2 2 2 1 2 1 2 1 2 ...\n",
      " $ High       : Factor w/ 2 levels \"tidak\",\"ya\": 2 2 2 1 1 2 1 2 1 1 ...\n"
     ]
    }
   ],
   "source": [
    "str(carseat)"
   ]
  },
  {
   "cell_type": "code",
   "execution_count": 14,
   "metadata": {},
   "outputs": [
    {
     "data": {
      "image/png": "[encoded data removed]",
      "text/plain": [
       "Plot with title \"Class of Sales \n",
       " ya=high  tidak=low\""
      ]
     },
     "metadata": {},
     "output_type": "display_data"
    }
   ],
   "source": [
    "barplot(xtabs(~High,data=carseat),main=\"Class of Sales \\n ya=high  tidak=low\",\n",
    "       col=c(\"aquamarine\",\"yellow\"))\n",
    "box()"
   ]
  },
  {
   "cell_type": "code",
   "execution_count": 15,
   "metadata": {},
   "outputs": [
    {
     "name": "stderr",
     "output_type": "stream",
     "text": [
      "The following objects are masked from carseat (pos = 3):\n",
      "\n",
      "    Advertising, Age, CompPrice, Education, High, Income, Population,\n",
      "    Price, Sales, ShelveLoc, Urban, US\n",
      "\n"
     ]
    },
    {
     "data": {
      "image/png": "[encoded data removed]",
      "text/plain": [
       "Plot with title \"Education\""
      ]
     },
     "metadata": {},
     "output_type": "display_data"
    }
   ],
   "source": [
    "attach(carseat)\n",
    "par(mfrow=c(2,4))\n",
    "hist(Sales,main=\"Sales\",col=adjustcolor(\"red\",alpha.f=0.05))\n",
    "hist(Sales[which(carseat$High==\"ya\")],col=adjustcolor(\"blue\",alpha.f=0.7),add=TRUE)\n",
    "hist(Sales[which(carseat$High==\"tidak\")],col=adjustcolor(\"yellow\",alpha.f=0.5),add=TRUE)\n",
    "box()\n",
    "\n",
    "hist(CompPrice,main=\"CompPrice\",col=rgb(1,0,0,1,alpha=0.05))\n",
    "hist(CompPrice[which(carseat$High==\"ya\")],col=adjustcolor(\"blue\",alpha.f=0.7),add=TRUE)\n",
    "hist(CompPrice[which(carseat$High==\"tidak\")],col=adjustcolor(\"yellow\",alpha.f=0.4),add=TRUE)\n",
    "box()\n",
    "\n",
    "hist(Income,main=\"Income\",col=rgb(1,0,0,1,alpha=0.05))\n",
    "hist(Income[which(carseat$High==\"ya\")],col=adjustcolor(\"blue\",alpha.f=0.7),add=TRUE)\n",
    "hist(Income[which(carseat$High==\"tidak\")],col=adjustcolor(\"yellow\",alpha.f=0.4),add=TRUE)\n",
    "box()\n",
    "\n",
    "hist(Advertising,main=\"Advertising\",col=rgb(1,0,0,1,alpha=0.05))\n",
    "hist(Advertising[which(carseat$High==\"ya\")],col=adjustcolor(\"blue\",alpha.f=0.7),add=TRUE)\n",
    "hist(Advertising[which(carseat$High==\"tidak\")],col=adjustcolor(\"yellow\",alpha.f=0.4),add=TRUE)\n",
    "box()\n",
    "\n",
    "hist(Population,main=\"Population\",col=rgb(1,0,0,1,alpha=0.05))\n",
    "hist(Population[which(carseat$High==\"ya\")],col=adjustcolor(\"blue\",alpha.f=0.7),add=TRUE)\n",
    "hist(Population[which(carseat$High==\"tidak\")],col=adjustcolor(\"yellow\",alpha.f=0.4),add=TRUE)\n",
    "box()\n",
    "\n",
    "hist(Price,main=\"Price\",col=rgb(1,0,0,1,alpha=0.05))\n",
    "hist(Price[which(carseat$High==\"ya\")],col=adjustcolor(\"blue\",alpha.f=0.7),add=TRUE)\n",
    "hist(Price[which(carseat$High==\"tidak\")],col=adjustcolor(\"yellow\",alpha.f=0.4),add=TRUE)\n",
    "box()\n",
    "\n",
    "hist(Age,main=\"Age\",col=rgb(1,0,0,1,alpha=0.05))\n",
    "hist(Age[which(carseat$High==\"ya\")],col=adjustcolor(\"blue\",alpha.f=0.7),add=TRUE)\n",
    "hist(Age[which(carseat$High==\"tidak\")],col=adjustcolor(\"yellow\",alpha.f=0.4),add=TRUE)\n",
    "box()\n",
    "\n",
    "hist(Education,main=\"Education\",col=rgb(1,0,0,1,alpha=0.05))\n",
    "hist(Education[which(carseat$High==\"ya\")],col=adjustcolor(\"blue\",alpha.f=0.7),add=TRUE)\n",
    "hist(Education[which(carseat$High==\"tidak\")],col=adjustcolor(\"yellow\",alpha.f=0.4),add=TRUE)\n",
    "box()"
   ]
  },
  {
   "cell_type": "code",
   "execution_count": 16,
   "metadata": {},
   "outputs": [
    {
     "ename": "ERROR",
     "evalue": "Error in terms.formula(formula, data = data): object 'train' not found\n",
     "output_type": "error",
     "traceback": [
      "Error in terms.formula(formula, data = data): object 'train' not found\nTraceback:\n",
      "1. barplot(xtabs(~High, data = train), col = \"pink\", add = T)",
      "2. xtabs(~High, data = train)",
      "3. terms(formula, data = data)",
      "4. terms.formula(formula, data = data)"
     ]
    },
    {
     "data": {
      "image/png": "[encoded data removed]",
      "text/plain": [
       "plot without title"
      ]
     },
     "metadata": {},
     "output_type": "display_data"
    }
   ],
   "source": [
    "barplot(xtabs(~High,data=carseat),col=\"aquamarine\")\n",
    "barplot(xtabs(~High,data=train),col=\"pink\",add=T)\n",
    "legend(\"topright\",inset=0.01,c(\"Semua\",\"Train\"),col=c(\"aquamarine\",\"pink\"),fill=c(\"aquamarine\",\"pink\"),\n",
    "       cex=1,title=\"Keterangan\", text.font=4, bg=\"white\")\n",
    "box()"
   ]
  },
  {
   "cell_type": "code",
   "execution_count": 17,
   "metadata": {},
   "outputs": [
    {
     "data": {
      "text/html": [
       "<table>\n",
       "<thead><tr><th></th><th scope=col>Sales</th><th scope=col>CompPrice</th><th scope=col>Income</th><th scope=col>Advertising</th><th scope=col>Population</th><th scope=col>Price</th><th scope=col>Age</th><th scope=col>Education</th></tr></thead>\n",
       "<tbody>\n",
       "\t<tr><th scope=row>Sales</th><td> 1.00000000 </td><td> 0.06407873 </td><td> 0.151950979</td><td> 0.269506781</td><td> 0.050470984</td><td>-0.44495073 </td><td>-0.231815440</td><td>-0.051955242</td></tr>\n",
       "\t<tr><th scope=row>CompPrice</th><td> 0.06407873 </td><td> 1.00000000 </td><td>-0.080653423</td><td>-0.024198788</td><td>-0.094706516</td><td> 0.58484777 </td><td>-0.100238817</td><td> 0.025197050</td></tr>\n",
       "\t<tr><th scope=row>Income</th><td> 0.15195098 </td><td>-0.08065342 </td><td> 1.000000000</td><td> 0.058994706</td><td>-0.007876994</td><td>-0.05669820 </td><td>-0.004670094</td><td>-0.056855422</td></tr>\n",
       "\t<tr><th scope=row>Advertising</th><td> 0.26950678 </td><td>-0.02419879 </td><td> 0.058994706</td><td> 1.000000000</td><td> 0.265652145</td><td> 0.04453687 </td><td>-0.004557497</td><td>-0.033594307</td></tr>\n",
       "\t<tr><th scope=row>Population</th><td> 0.05047098 </td><td>-0.09470652 </td><td>-0.007876994</td><td> 0.265652145</td><td> 1.000000000</td><td>-0.01214362 </td><td>-0.042663355</td><td>-0.106378231</td></tr>\n",
       "\t<tr><th scope=row>Price</th><td>-0.44495073 </td><td> 0.58484777 </td><td>-0.056698202</td><td> 0.044536874</td><td>-0.012143620</td><td> 1.00000000 </td><td>-0.102176839</td><td> 0.011746599</td></tr>\n",
       "\t<tr><th scope=row>Age</th><td>-0.23181544 </td><td>-0.10023882 </td><td>-0.004670094</td><td>-0.004557497</td><td>-0.042663355</td><td>-0.10217684 </td><td> 1.000000000</td><td> 0.006488032</td></tr>\n",
       "\t<tr><th scope=row>Education</th><td>-0.05195524 </td><td> 0.02519705 </td><td>-0.056855422</td><td>-0.033594307</td><td>-0.106378231</td><td> 0.01174660 </td><td> 0.006488032</td><td> 1.000000000</td></tr>\n",
       "</tbody>\n",
       "</table>\n"
      ],
      "text/latex": [
       "\\begin{tabular}{r|llllllll}\n",
       "  & Sales & CompPrice & Income & Advertising & Population & Price & Age & Education\\\\\n",
       "\\hline\n",
       "\tSales &  1.00000000  &  0.06407873  &  0.151950979 &  0.269506781 &  0.050470984 & -0.44495073  & -0.231815440 & -0.051955242\\\\\n",
       "\tCompPrice &  0.06407873  &  1.00000000  & -0.080653423 & -0.024198788 & -0.094706516 &  0.58484777  & -0.100238817 &  0.025197050\\\\\n",
       "\tIncome &  0.15195098  & -0.08065342  &  1.000000000 &  0.058994706 & -0.007876994 & -0.05669820  & -0.004670094 & -0.056855422\\\\\n",
       "\tAdvertising &  0.26950678  & -0.02419879  &  0.058994706 &  1.000000000 &  0.265652145 &  0.04453687  & -0.004557497 & -0.033594307\\\\\n",
       "\tPopulation &  0.05047098  & -0.09470652  & -0.007876994 &  0.265652145 &  1.000000000 & -0.01214362  & -0.042663355 & -0.106378231\\\\\n",
       "\tPrice & -0.44495073  &  0.58484777  & -0.056698202 &  0.044536874 & -0.012143620 &  1.00000000  & -0.102176839 &  0.011746599\\\\\n",
       "\tAge & -0.23181544  & -0.10023882  & -0.004670094 & -0.004557497 & -0.042663355 & -0.10217684  &  1.000000000 &  0.006488032\\\\\n",
       "\tEducation & -0.05195524  &  0.02519705  & -0.056855422 & -0.033594307 & -0.106378231 &  0.01174660  &  0.006488032 &  1.000000000\\\\\n",
       "\\end{tabular}\n"
      ],
      "text/markdown": [
       "\n",
       "| <!--/--> | Sales | CompPrice | Income | Advertising | Population | Price | Age | Education | \n",
       "|---|---|---|---|---|---|---|---|\n",
       "| Sales |  1.00000000  |  0.06407873  |  0.151950979 |  0.269506781 |  0.050470984 | -0.44495073  | -0.231815440 | -0.051955242 | \n",
       "| CompPrice |  0.06407873  |  1.00000000  | -0.080653423 | -0.024198788 | -0.094706516 |  0.58484777  | -0.100238817 |  0.025197050 | \n",
       "| Income |  0.15195098  | -0.08065342  |  1.000000000 |  0.058994706 | -0.007876994 | -0.05669820  | -0.004670094 | -0.056855422 | \n",
       "| Advertising |  0.26950678  | -0.02419879  |  0.058994706 |  1.000000000 |  0.265652145 |  0.04453687  | -0.004557497 | -0.033594307 | \n",
       "| Population |  0.05047098  | -0.09470652  | -0.007876994 |  0.265652145 |  1.000000000 | -0.01214362  | -0.042663355 | -0.106378231 | \n",
       "| Price | -0.44495073  |  0.58484777  | -0.056698202 |  0.044536874 | -0.012143620 |  1.00000000  | -0.102176839 |  0.011746599 | \n",
       "| Age | -0.23181544  | -0.10023882  | -0.004670094 | -0.004557497 | -0.042663355 | -0.10217684  |  1.000000000 |  0.006488032 | \n",
       "| Education | -0.05195524  |  0.02519705  | -0.056855422 | -0.033594307 | -0.106378231 |  0.01174660  |  0.006488032 |  1.000000000 | \n",
       "\n",
       "\n"
      ],
      "text/plain": [
       "            Sales       CompPrice   Income       Advertising  Population  \n",
       "Sales        1.00000000  0.06407873  0.151950979  0.269506781  0.050470984\n",
       "CompPrice    0.06407873  1.00000000 -0.080653423 -0.024198788 -0.094706516\n",
       "Income       0.15195098 -0.08065342  1.000000000  0.058994706 -0.007876994\n",
       "Advertising  0.26950678 -0.02419879  0.058994706  1.000000000  0.265652145\n",
       "Population   0.05047098 -0.09470652 -0.007876994  0.265652145  1.000000000\n",
       "Price       -0.44495073  0.58484777 -0.056698202  0.044536874 -0.012143620\n",
       "Age         -0.23181544 -0.10023882 -0.004670094 -0.004557497 -0.042663355\n",
       "Education   -0.05195524  0.02519705 -0.056855422 -0.033594307 -0.106378231\n",
       "            Price       Age          Education   \n",
       "Sales       -0.44495073 -0.231815440 -0.051955242\n",
       "CompPrice    0.58484777 -0.100238817  0.025197050\n",
       "Income      -0.05669820 -0.004670094 -0.056855422\n",
       "Advertising  0.04453687 -0.004557497 -0.033594307\n",
       "Population  -0.01214362 -0.042663355 -0.106378231\n",
       "Price        1.00000000 -0.102176839  0.011746599\n",
       "Age         -0.10217684  1.000000000  0.006488032\n",
       "Education    0.01174660  0.006488032  1.000000000"
      ]
     },
     "metadata": {},
     "output_type": "display_data"
    }
   ],
   "source": [
    "cor(carseat[,-c(7,10,11,12)])"
   ]
  },
  {
   "cell_type": "code",
   "execution_count": 18,
   "metadata": {},
   "outputs": [
    {
     "name": "stderr",
     "output_type": "stream",
     "text": [
      "Loading required package: lattice\n",
      "Loading required package: ggplot2\n"
     ]
    },
    {
     "data": {
      "text/html": [
       "<ol class=list-inline>\n",
       "\t<li>320</li>\n",
       "\t<li>11</li>\n",
       "</ol>\n"
      ],
      "text/latex": [
       "\\begin{enumerate*}\n",
       "\\item 320\n",
       "\\item 11\n",
       "\\end{enumerate*}\n"
      ],
      "text/markdown": [
       "1. 320\n",
       "2. 11\n",
       "\n",
       "\n"
      ],
      "text/plain": [
       "[1] 320  11"
      ]
     },
     "metadata": {},
     "output_type": "display_data"
    },
    {
     "data": {
      "text/html": [
       "<ol class=list-inline>\n",
       "\t<li>80</li>\n",
       "\t<li>11</li>\n",
       "</ol>\n"
      ],
      "text/latex": [
       "\\begin{enumerate*}\n",
       "\\item 80\n",
       "\\item 11\n",
       "\\end{enumerate*}\n"
      ],
      "text/markdown": [
       "1. 80\n",
       "2. 11\n",
       "\n",
       "\n"
      ],
      "text/plain": [
       "[1] 80 11"
      ]
     },
     "metadata": {},
     "output_type": "display_data"
    }
   ],
   "source": [
    "# membagi data\n",
    "library(caret)\n",
    "## train\n",
    "set.seed(1993)\n",
    "index_train <- createDataPartition(1:length(carseat$High),times=1,p=0.8,list=FALSE)\n",
    "train <- carseat[index_train,-1]\n",
    "\n",
    "## test\n",
    "test <- carseat[-index_train,-1]\n",
    "dim(train)\n",
    "dim(test)"
   ]
  },
  {
   "cell_type": "code",
   "execution_count": 19,
   "metadata": {},
   "outputs": [
    {
     "name": "stdout",
     "output_type": "stream",
     "text": [
      "'data.frame':\t320 obs. of  11 variables:\n",
      " $ CompPrice  : int  111 113 141 124 136 132 121 117 122 115 ...\n",
      " $ Income     : int  48 35 64 113 81 110 78 94 35 28 ...\n",
      " $ Advertising: int  16 10 3 13 15 0 9 4 2 11 ...\n",
      " $ Population : int  260 269 340 501 425 108 150 503 393 29 ...\n",
      " $ Price      : int  83 80 128 72 120 124 100 94 136 86 ...\n",
      " $ ShelveLoc  : Factor w/ 3 levels \"Bad\",\"Good\",\"Medium\": 2 3 1 1 2 3 1 2 3 2 ...\n",
      " $ Age        : int  65 59 38 78 67 76 26 50 62 53 ...\n",
      " $ Education  : int  10 12 13 16 10 10 10 13 18 18 ...\n",
      " $ Urban      : Factor w/ 2 levels \"No\",\"Yes\": 2 2 2 1 2 1 1 2 2 2 ...\n",
      " $ US         : Factor w/ 2 levels \"No\",\"Yes\": 2 2 1 2 2 1 2 2 1 2 ...\n",
      " $ High       : Factor w/ 2 levels \"tidak\",\"ya\": 2 2 1 2 2 1 2 2 1 2 ...\n"
     ]
    }
   ],
   "source": [
    "str(train)"
   ]
  },
  {
   "cell_type": "code",
   "execution_count": 20,
   "metadata": {},
   "outputs": [
    {
     "name": "stderr",
     "output_type": "stream",
     "text": [
      "Warning message:\n",
      "\"package 'classInt' was built under R version 3.5.2\""
     ]
    }
   ],
   "source": [
    "# diskretisasi\n",
    "library(classInt)\n",
    "\n",
    "## equal width TRAIN\n",
    "eqwid_CompPrice <- cut(train$CompPrice,classIntervals((train$CompPrice), 4, style = 'equal')$brks,include.lowest=TRUE)\n",
    "eqwid_Income <- cut(train$Income,classIntervals((train$Income), 4, style = 'equal')$brks,include.lowest=TRUE)\n",
    "eqwid_Advertising <- cut(train$Advertising,classIntervals((train$Advertising), 4, style = 'equal')$brks,include.lowest=TRUE)\n",
    "eqwid_Population <- cut(train$Population,classIntervals((train$Population), 4, style = 'equal')$brks,include.lowest=TRUE)\n",
    "eqwid_Price <- cut(train$Price,classIntervals((train$Price), 4, style = 'equal')$brks,include.lowest=TRUE)\n",
    "eqwid_Age <- cut(train$Age,classIntervals((train$Age), 4, style = 'equal')$brks,include.lowest=TRUE)\n",
    "eqwid_Education <- cut(train$Education,classIntervals((train$Education), 4, style = 'equal')$brks,include.lowest=TRUE)"
   ]
  },
  {
   "cell_type": "code",
   "execution_count": 21,
   "metadata": {},
   "outputs": [
    {
     "data": {
      "text/plain": [
       "  eqwid_CompPrice      eqwid_Income   eqwid_Advertising  eqwid_Population\n",
       " [77,102] : 22    [21,45.8]  :79    [0,7.25]   :181     [12,136] :76     \n",
       " (102,126]:150    (45.8,70.5]:80    (7.25,14.5]: 91     (136,260]:74     \n",
       " (126,150]:135    (70.5,95.2]:92    (14.5,21.8]: 40     (260,385]:85     \n",
       " (150,175]: 13    (95.2,120] :69    (21.8,29]  :  8     (385,509]:85     \n",
       "     eqwid_Price        eqwid_Age  eqwid_Education    High    \n",
       " [24,65.8] :  5   [25,38.8]  :77   [10,12]:123     tidak:187  \n",
       " (65.8,108]:114   (38.8,52.5]:75   (12,14]: 66     ya   :133  \n",
       " (108,149] :175   (52.5,66.2]:90   (14,16]: 65                \n",
       " (149,191] : 26   (66.2,80]  :78   (16,18]: 66                "
      ]
     },
     "metadata": {},
     "output_type": "display_data"
    }
   ],
   "source": [
    "train_eqwid <- data.frame(eqwid_CompPrice,eqwid_Income,eqwid_Advertising,eqwid_Population,eqwid_Price,eqwid_Age,\n",
    "                          eqwid_Education,High=train$High)\n",
    "summary(train_eqwid)"
   ]
  },
  {
   "cell_type": "code",
   "execution_count": 22,
   "metadata": {},
   "outputs": [],
   "source": [
    "test_eqwid <- NULL\n",
    "test_eqwid$eqwid_CompPrice <- ifelse(test$CompPrice<=102,1,ifelse(test$CompPrice<=126,2,ifelse(test$CompPrice<=150,3,4)))\n",
    "test_eqwid$eqwid_Income <- ifelse(test$Income<=45.8,1,ifelse(test$Income<=70.5,2,ifelse(test$Income<=95.2,3,4)))\n",
    "test_eqwid$eqwid_Advertising <- ifelse(test$Advertising<=7.25,1,ifelse(test$Advertising<=14.5,2,\n",
    "                                ifelse(test$Advertising<=21.8,3,4)))\n",
    "test_eqwid$eqwid_Population <- ifelse(test$Population<=136,1,ifelse(test$Population<=260,2,\n",
    "                               ifelse(test$Population<=385,3,4)))\n",
    "test_eqwid$eqwid_Price <- ifelse(test$Price<=65.8,1,ifelse(test$Price<=114,2,ifelse(test$Price<=175,3,4)))\n",
    "test_eqwid$eqwid_Age <- ifelse(test$Age<=38.8,1,ifelse(test$Age<=75,2,ifelse(test$Age<=90,3,4)))\n",
    "test_eqwid$eqwid_Education <- ifelse(test$Education<=12,1,ifelse(test$Education<=14,2,ifelse(test$Education<=16,3,4)))"
   ]
  },
  {
   "cell_type": "code",
   "execution_count": 23,
   "metadata": {},
   "outputs": [
    {
     "data": {
      "text/html": [
       "<table>\n",
       "<thead><tr><th scope=col>eqwid_CompPrice</th><th scope=col>eqwid_Income</th><th scope=col>eqwid_Advertising</th><th scope=col>eqwid_Population</th><th scope=col>eqwid_Price</th><th scope=col>eqwid_Age</th><th scope=col>eqwid_Education</th></tr></thead>\n",
       "<tbody>\n",
       "\t<tr><td>3</td><td>3</td><td>2</td><td>3</td><td>3</td><td>2</td><td>4</td></tr>\n",
       "\t<tr><td>2</td><td>4</td><td>1</td><td>4</td><td>2</td><td>2</td><td>2</td></tr>\n",
       "\t<tr><td>2</td><td>4</td><td>1</td><td>1</td><td>2</td><td>2</td><td>3</td></tr>\n",
       "\t<tr><td>3</td><td>4</td><td>1</td><td>1</td><td>3</td><td>3</td><td>4</td></tr>\n",
       "\t<tr><td>3</td><td>3</td><td>1</td><td>4</td><td>3</td><td>3</td><td>4</td></tr>\n",
       "\t<tr><td>2</td><td>1</td><td>1</td><td>3</td><td>2</td><td>2</td><td>2</td></tr>\n",
       "</tbody>\n",
       "</table>\n"
      ],
      "text/latex": [
       "\\begin{tabular}{r|lllllll}\n",
       " eqwid\\_CompPrice & eqwid\\_Income & eqwid\\_Advertising & eqwid\\_Population & eqwid\\_Price & eqwid\\_Age & eqwid\\_Education\\\\\n",
       "\\hline\n",
       "\t 3 & 3 & 2 & 3 & 3 & 2 & 4\\\\\n",
       "\t 2 & 4 & 1 & 4 & 2 & 2 & 2\\\\\n",
       "\t 2 & 4 & 1 & 1 & 2 & 2 & 3\\\\\n",
       "\t 3 & 4 & 1 & 1 & 3 & 3 & 4\\\\\n",
       "\t 3 & 3 & 1 & 4 & 3 & 3 & 4\\\\\n",
       "\t 2 & 1 & 1 & 3 & 2 & 2 & 2\\\\\n",
       "\\end{tabular}\n"
      ],
      "text/markdown": [
       "\n",
       "eqwid_CompPrice | eqwid_Income | eqwid_Advertising | eqwid_Population | eqwid_Price | eqwid_Age | eqwid_Education | \n",
       "|---|---|---|---|---|---|\n",
       "| 3 | 3 | 2 | 3 | 3 | 2 | 4 | \n",
       "| 2 | 4 | 1 | 4 | 2 | 2 | 2 | \n",
       "| 2 | 4 | 1 | 1 | 2 | 2 | 3 | \n",
       "| 3 | 4 | 1 | 1 | 3 | 3 | 4 | \n",
       "| 3 | 3 | 1 | 4 | 3 | 3 | 4 | \n",
       "| 2 | 1 | 1 | 3 | 2 | 2 | 2 | \n",
       "\n",
       "\n"
      ],
      "text/plain": [
       "  eqwid_CompPrice eqwid_Income eqwid_Advertising eqwid_Population eqwid_Price\n",
       "1 3               3            2                 3                3          \n",
       "2 2               4            1                 4                2          \n",
       "3 2               4            1                 1                2          \n",
       "4 3               4            1                 1                3          \n",
       "5 3               3            1                 4                3          \n",
       "6 2               1            1                 3                2          \n",
       "  eqwid_Age eqwid_Education\n",
       "1 2         4              \n",
       "2 2         2              \n",
       "3 2         3              \n",
       "4 3         4              \n",
       "5 3         4              \n",
       "6 2         2              "
      ]
     },
     "metadata": {},
     "output_type": "display_data"
    }
   ],
   "source": [
    "test_eqwid <- lapply(test_eqwid,function(x) as.factor(x))\n",
    "test_eqwid <- as.data.frame(test_eqwid)\n",
    "head(test_eqwid)"
   ]
  },
  {
   "cell_type": "code",
   "execution_count": 24,
   "metadata": {},
   "outputs": [
    {
     "name": "stdout",
     "output_type": "stream",
     "text": [
      "'data.frame':\t320 obs. of  8 variables:\n",
      " $ eqwid_CompPrice  : Factor w/ 4 levels \"[77,102]\",\"(102,126]\",..: 2 2 3 2 3 3 2 2 2 2 ...\n",
      " $ eqwid_Income     : Factor w/ 4 levels \"[21,45.8]\",\"(45.8,70.5]\",..: 2 1 2 4 3 4 3 3 1 1 ...\n",
      " $ eqwid_Advertising: Factor w/ 4 levels \"[0,7.25]\",\"(7.25,14.5]\",..: 3 2 1 2 3 1 2 1 1 2 ...\n",
      " $ eqwid_Population : Factor w/ 4 levels \"[12,136]\",\"(136,260]\",..: 2 3 3 4 4 1 2 4 4 1 ...\n",
      " $ eqwid_Price      : Factor w/ 4 levels \"[24,65.8]\",\"(65.8,108]\",..: 2 2 3 2 3 3 2 2 3 2 ...\n",
      " $ eqwid_Age        : Factor w/ 4 levels \"[25,38.8]\",\"(38.8,52.5]\",..: 3 3 1 4 4 4 1 2 3 3 ...\n",
      " $ eqwid_Education  : Factor w/ 4 levels \"[10,12]\",\"(12,14]\",..: 1 1 2 3 1 1 1 2 4 4 ...\n",
      " $ High             : Factor w/ 2 levels \"tidak\",\"ya\": 2 2 1 2 2 1 2 2 1 2 ...\n"
     ]
    }
   ],
   "source": [
    "str(train_eqwid)"
   ]
  },
  {
   "cell_type": "code",
   "execution_count": 25,
   "metadata": {},
   "outputs": [
    {
     "name": "stdout",
     "output_type": "stream",
     "text": [
      "'data.frame':\t80 obs. of  7 variables:\n",
      " $ eqwid_CompPrice  : Factor w/ 4 levels \"1\",\"2\",\"3\",\"4\": 3 2 2 3 3 2 3 2 3 2 ...\n",
      " $ eqwid_Income     : Factor w/ 4 levels \"1\",\"2\",\"3\",\"4\": 3 4 4 4 3 1 1 3 3 3 ...\n",
      " $ eqwid_Advertising: Factor w/ 3 levels \"1\",\"2\",\"3\": 2 1 1 1 1 1 1 1 2 1 ...\n",
      " $ eqwid_Population : Factor w/ 4 levels \"1\",\"2\",\"3\",\"4\": 3 4 1 1 4 3 2 3 1 2 ...\n",
      " $ eqwid_Price      : Factor w/ 3 levels \"1\",\"2\",\"3\": 3 2 2 3 3 2 2 2 2 2 ...\n",
      " $ eqwid_Age        : Factor w/ 3 levels \"1\",\"2\",\"3\": 2 2 2 3 3 2 2 2 2 2 ...\n",
      " $ eqwid_Education  : Factor w/ 4 levels \"1\",\"2\",\"3\",\"4\": 4 2 3 4 4 2 1 1 3 3 ...\n"
     ]
    }
   ],
   "source": [
    "str(test_eqwid)"
   ]
  },
  {
   "cell_type": "code",
   "execution_count": 26,
   "metadata": {},
   "outputs": [
    {
     "name": "stderr",
     "output_type": "stream",
     "text": [
      "Warning message:\n",
      "\"package 'klaR' was built under R version 3.5.2\"Loading required package: MASS\n"
     ]
    },
    {
     "data": {
      "text/plain": [
       "          Length Class      Mode     \n",
       "apriori   2      table      numeric  \n",
       "tables    7      -none-     list     \n",
       "levels    2      -none-     character\n",
       "call      3      -none-     call     \n",
       "x         7      data.frame list     \n",
       "usekernel 1      -none-     logical  \n",
       "varnames  7      -none-     character"
      ]
     },
     "metadata": {},
     "output_type": "display_data"
    }
   ],
   "source": [
    "# Model Naive Bayes\n",
    "library(klaR)\n",
    "nb_model <- NaiveBayes(High~ ., data=train_eqwid)\n",
    "summary(nb_model)"
   ]
  },
  {
   "cell_type": "code",
   "execution_count": 27,
   "metadata": {},
   "outputs": [],
   "source": [
    "klasifikasi <- predict(nb_model,newdata=test_eqwid)"
   ]
  },
  {
   "cell_type": "code",
   "execution_count": 28,
   "metadata": {},
   "outputs": [
    {
     "data": {
      "text/plain": [
       "Confusion Matrix and Statistics\n",
       "\n",
       "          Reference\n",
       "Prediction tidak ya\n",
       "     tidak    40  9\n",
       "     ya       11 20\n",
       "                                          \n",
       "               Accuracy : 0.75            \n",
       "                 95% CI : (0.6406, 0.8401)\n",
       "    No Information Rate : 0.6375          \n",
       "    P-Value [Acc > NIR] : 0.02184         \n",
       "                                          \n",
       "                  Kappa : 0.467           \n",
       " Mcnemar's Test P-Value : 0.82306         \n",
       "                                          \n",
       "            Sensitivity : 0.6897          \n",
       "            Specificity : 0.7843          \n",
       "         Pos Pred Value : 0.6452          \n",
       "         Neg Pred Value : 0.8163          \n",
       "             Prevalence : 0.3625          \n",
       "         Detection Rate : 0.2500          \n",
       "   Detection Prevalence : 0.3875          \n",
       "      Balanced Accuracy : 0.7370          \n",
       "                                          \n",
       "       'Positive' Class : ya              \n",
       "                                          "
      ]
     },
     "metadata": {},
     "output_type": "display_data"
    }
   ],
   "source": [
    "confusionMatrix(test$High,klasifikasi$class,positive='ya')"
   ]
  },
  {
   "cell_type": "markdown",
   "metadata": {},
   "source": [
    "## tanpa diskretisasi"
   ]
  },
  {
   "cell_type": "code",
   "execution_count": 29,
   "metadata": {
    "collapsed": true
   },
   "outputs": [
    {
     "name": "stderr",
     "output_type": "stream",
     "text": [
      "Warning message in FUN(X[[i]], ...):\n",
      "\"Numerical 0 probability for all classes with observation 1\"Warning message in FUN(X[[i]], ...):\n",
      "\"Numerical 0 probability for all classes with observation 2\"Warning message in FUN(X[[i]], ...):\n",
      "\"Numerical 0 probability for all classes with observation 3\"Warning message in FUN(X[[i]], ...):\n",
      "\"Numerical 0 probability for all classes with observation 4\"Warning message in FUN(X[[i]], ...):\n",
      "\"Numerical 0 probability for all classes with observation 5\"Warning message in FUN(X[[i]], ...):\n",
      "\"Numerical 0 probability for all classes with observation 6\"Warning message in FUN(X[[i]], ...):\n",
      "\"Numerical 0 probability for all classes with observation 7\"Warning message in FUN(X[[i]], ...):\n",
      "\"Numerical 0 probability for all classes with observation 8\"Warning message in FUN(X[[i]], ...):\n",
      "\"Numerical 0 probability for all classes with observation 9\"Warning message in FUN(X[[i]], ...):\n",
      "\"Numerical 0 probability for all classes with observation 10\"Warning message in FUN(X[[i]], ...):\n",
      "\"Numerical 0 probability for all classes with observation 11\"Warning message in FUN(X[[i]], ...):\n",
      "\"Numerical 0 probability for all classes with observation 12\"Warning message in FUN(X[[i]], ...):\n",
      "\"Numerical 0 probability for all classes with observation 13\"Warning message in FUN(X[[i]], ...):\n",
      "\"Numerical 0 probability for all classes with observation 14\"Warning message in FUN(X[[i]], ...):\n",
      "\"Numerical 0 probability for all classes with observation 15\"Warning message in FUN(X[[i]], ...):\n",
      "\"Numerical 0 probability for all classes with observation 16\"Warning message in FUN(X[[i]], ...):\n",
      "\"Numerical 0 probability for all classes with observation 17\"Warning message in FUN(X[[i]], ...):\n",
      "\"Numerical 0 probability for all classes with observation 18\"Warning message in FUN(X[[i]], ...):\n",
      "\"Numerical 0 probability for all classes with observation 19\"Warning message in FUN(X[[i]], ...):\n",
      "\"Numerical 0 probability for all classes with observation 20\"Warning message in FUN(X[[i]], ...):\n",
      "\"Numerical 0 probability for all classes with observation 21\"Warning message in FUN(X[[i]], ...):\n",
      "\"Numerical 0 probability for all classes with observation 22\"Warning message in FUN(X[[i]], ...):\n",
      "\"Numerical 0 probability for all classes with observation 23\"Warning message in FUN(X[[i]], ...):\n",
      "\"Numerical 0 probability for all classes with observation 24\"Warning message in FUN(X[[i]], ...):\n",
      "\"Numerical 0 probability for all classes with observation 25\"Warning message in FUN(X[[i]], ...):\n",
      "\"Numerical 0 probability for all classes with observation 26\"Warning message in FUN(X[[i]], ...):\n",
      "\"Numerical 0 probability for all classes with observation 27\"Warning message in FUN(X[[i]], ...):\n",
      "\"Numerical 0 probability for all classes with observation 28\"Warning message in FUN(X[[i]], ...):\n",
      "\"Numerical 0 probability for all classes with observation 29\"Warning message in FUN(X[[i]], ...):\n",
      "\"Numerical 0 probability for all classes with observation 30\"Warning message in FUN(X[[i]], ...):\n",
      "\"Numerical 0 probability for all classes with observation 31\"Warning message in FUN(X[[i]], ...):\n",
      "\"Numerical 0 probability for all classes with observation 32\"Warning message in FUN(X[[i]], ...):\n",
      "\"Numerical 0 probability for all classes with observation 33\"Warning message in FUN(X[[i]], ...):\n",
      "\"Numerical 0 probability for all classes with observation 34\"Warning message in FUN(X[[i]], ...):\n",
      "\"Numerical 0 probability for all classes with observation 35\"Warning message in FUN(X[[i]], ...):\n",
      "\"Numerical 0 probability for all classes with observation 36\"Warning message in FUN(X[[i]], ...):\n",
      "\"Numerical 0 probability for all classes with observation 37\"Warning message in FUN(X[[i]], ...):\n",
      "\"Numerical 0 probability for all classes with observation 38\"Warning message in FUN(X[[i]], ...):\n",
      "\"Numerical 0 probability for all classes with observation 39\"Warning message in FUN(X[[i]], ...):\n",
      "\"Numerical 0 probability for all classes with observation 40\"Warning message in FUN(X[[i]], ...):\n",
      "\"Numerical 0 probability for all classes with observation 41\"Warning message in FUN(X[[i]], ...):\n",
      "\"Numerical 0 probability for all classes with observation 42\"Warning message in FUN(X[[i]], ...):\n",
      "\"Numerical 0 probability for all classes with observation 43\"Warning message in FUN(X[[i]], ...):\n",
      "\"Numerical 0 probability for all classes with observation 44\"Warning message in FUN(X[[i]], ...):\n",
      "\"Numerical 0 probability for all classes with observation 45\"Warning message in FUN(X[[i]], ...):\n",
      "\"Numerical 0 probability for all classes with observation 46\"Warning message in FUN(X[[i]], ...):\n",
      "\"Numerical 0 probability for all classes with observation 47\"Warning message in FUN(X[[i]], ...):\n",
      "\"Numerical 0 probability for all classes with observation 48\"Warning message in FUN(X[[i]], ...):\n",
      "\"Numerical 0 probability for all classes with observation 49\"Warning message in FUN(X[[i]], ...):\n",
      "\"Numerical 0 probability for all classes with observation 50\"Warning message in FUN(X[[i]], ...):\n",
      "\"Numerical 0 probability for all classes with observation 51\"Warning message in FUN(X[[i]], ...):\n",
      "\"Numerical 0 probability for all classes with observation 52\"Warning message in FUN(X[[i]], ...):\n",
      "\"Numerical 0 probability for all classes with observation 53\"Warning message in FUN(X[[i]], ...):\n",
      "\"Numerical 0 probability for all classes with observation 54\"Warning message in FUN(X[[i]], ...):\n",
      "\"Numerical 0 probability for all classes with observation 55\"Warning message in FUN(X[[i]], ...):\n",
      "\"Numerical 0 probability for all classes with observation 56\"Warning message in FUN(X[[i]], ...):\n",
      "\"Numerical 0 probability for all classes with observation 57\"Warning message in FUN(X[[i]], ...):\n",
      "\"Numerical 0 probability for all classes with observation 58\"Warning message in FUN(X[[i]], ...):\n",
      "\"Numerical 0 probability for all classes with observation 59\"Warning message in FUN(X[[i]], ...):\n",
      "\"Numerical 0 probability for all classes with observation 60\"Warning message in FUN(X[[i]], ...):\n",
      "\"Numerical 0 probability for all classes with observation 61\"Warning message in FUN(X[[i]], ...):\n",
      "\"Numerical 0 probability for all classes with observation 62\"Warning message in FUN(X[[i]], ...):\n",
      "\"Numerical 0 probability for all classes with observation 63\"Warning message in FUN(X[[i]], ...):\n",
      "\"Numerical 0 probability for all classes with observation 64\"Warning message in FUN(X[[i]], ...):\n",
      "\"Numerical 0 probability for all classes with observation 65\"Warning message in FUN(X[[i]], ...):\n",
      "\"Numerical 0 probability for all classes with observation 66\"Warning message in FUN(X[[i]], ...):\n",
      "\"Numerical 0 probability for all classes with observation 67\"Warning message in FUN(X[[i]], ...):\n",
      "\"Numerical 0 probability for all classes with observation 68\"Warning message in FUN(X[[i]], ...):\n",
      "\"Numerical 0 probability for all classes with observation 69\"Warning message in FUN(X[[i]], ...):\n",
      "\"Numerical 0 probability for all classes with observation 70\"Warning message in FUN(X[[i]], ...):\n",
      "\"Numerical 0 probability for all classes with observation 71\"Warning message in FUN(X[[i]], ...):\n",
      "\"Numerical 0 probability for all classes with observation 72\"Warning message in FUN(X[[i]], ...):\n",
      "\"Numerical 0 probability for all classes with observation 73\"Warning message in FUN(X[[i]], ...):\n",
      "\"Numerical 0 probability for all classes with observation 74\"Warning message in FUN(X[[i]], ...):\n",
      "\"Numerical 0 probability for all classes with observation 75\"Warning message in FUN(X[[i]], ...):\n",
      "\"Numerical 0 probability for all classes with observation 76\"Warning message in FUN(X[[i]], ...):\n",
      "\"Numerical 0 probability for all classes with observation 77\"Warning message in FUN(X[[i]], ...):\n",
      "\"Numerical 0 probability for all classes with observation 78\"Warning message in FUN(X[[i]], ...):\n",
      "\"Numerical 0 probability for all classes with observation 79\"Warning message in FUN(X[[i]], ...):\n",
      "\"Numerical 0 probability for all classes with observation 80\""
     ]
    }
   ],
   "source": [
    "nb_model2 <- NaiveBayes(High~.,data=train[,-c(6,9,10)])\n",
    "klasifikasi2 <- predict(nb_model2,newdata=test[,-c(6,9,10,11)])"
   ]
  },
  {
   "cell_type": "code",
   "execution_count": 30,
   "metadata": {},
   "outputs": [
    {
     "data": {
      "text/plain": [
       "Confusion Matrix and Statistics\n",
       "\n",
       "          Reference\n",
       "Prediction tidak ya\n",
       "     tidak    44  5\n",
       "     ya       16 15\n",
       "                                          \n",
       "               Accuracy : 0.7375          \n",
       "                 95% CI : (0.6271, 0.8296)\n",
       "    No Information Rate : 0.75            \n",
       "    P-Value [Acc > NIR] : 0.6574          \n",
       "                                          \n",
       "                  Kappa : 0.4085          \n",
       " Mcnemar's Test P-Value : 0.0291          \n",
       "                                          \n",
       "            Sensitivity : 0.7333          \n",
       "            Specificity : 0.7500          \n",
       "         Pos Pred Value : 0.8980          \n",
       "         Neg Pred Value : 0.4839          \n",
       "             Prevalence : 0.7500          \n",
       "         Detection Rate : 0.5500          \n",
       "   Detection Prevalence : 0.6125          \n",
       "      Balanced Accuracy : 0.7417          \n",
       "                                          \n",
       "       'Positive' Class : tidak           \n",
       "                                          "
      ]
     },
     "metadata": {},
     "output_type": "display_data"
    }
   ],
   "source": [
    "confusionMatrix(test$High,klasifikasi2$class)"
   ]
  },
  {
   "cell_type": "markdown",
   "metadata": {},
   "source": [
    "## Diskretisasi tanpa CompPrice"
   ]
  },
  {
   "cell_type": "code",
   "execution_count": 31,
   "metadata": {},
   "outputs": [],
   "source": [
    "nb_model3 <- NaiveBayes(High~ ., data=train_eqwid[,-1])"
   ]
  },
  {
   "cell_type": "code",
   "execution_count": 32,
   "metadata": {},
   "outputs": [],
   "source": [
    "klasifikasi3 <- predict(nb_model3,newdata=test_eqwid[,-1])"
   ]
  },
  {
   "cell_type": "code",
   "execution_count": 33,
   "metadata": {},
   "outputs": [
    {
     "data": {
      "text/plain": [
       "Confusion Matrix and Statistics\n",
       "\n",
       "          Reference\n",
       "Prediction tidak ya\n",
       "     tidak    37 12\n",
       "     ya       11 20\n",
       "                                          \n",
       "               Accuracy : 0.7125          \n",
       "                 95% CI : (0.6005, 0.8082)\n",
       "    No Information Rate : 0.6             \n",
       "    P-Value [Acc > NIR] : 0.02453         \n",
       "                                          \n",
       "                  Kappa : 0.3979          \n",
       " Mcnemar's Test P-Value : 1.00000         \n",
       "                                          \n",
       "            Sensitivity : 0.6250          \n",
       "            Specificity : 0.7708          \n",
       "         Pos Pred Value : 0.6452          \n",
       "         Neg Pred Value : 0.7551          \n",
       "             Prevalence : 0.4000          \n",
       "         Detection Rate : 0.2500          \n",
       "   Detection Prevalence : 0.3875          \n",
       "      Balanced Accuracy : 0.6979          \n",
       "                                          \n",
       "       'Positive' Class : ya              \n",
       "                                          "
      ]
     },
     "metadata": {},
     "output_type": "display_data"
    }
   ],
   "source": [
    "confusionMatrix(test$High,klasifikasi3$class,positive='ya')"
   ]
  }
 ],
 "metadata": {
  "kernelspec": {
   "display_name": "R",
   "language": "R",
   "name": "ir"
  },
  "language_info": {
   "codemirror_mode": "r",
   "file_extension": ".r",
   "mimetype": "text/x-r-source",
   "name": "R",
   "pygments_lexer": "r",
   "version": "3.5.1"
  }
 },
 "nbformat": 4,
 "nbformat_minor": 2
}
